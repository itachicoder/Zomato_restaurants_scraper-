{
 "cells": [
  {
   "cell_type": "code",
   "execution_count": 1,
   "metadata": {},
   "outputs": [
    {
     "ename": "ModuleNotFoundError",
     "evalue": "No module named 'scrapy'",
     "output_type": "error",
     "traceback": [
      "\u001b[1;31m---------------------------------------------------------------------------\u001b[0m",
      "\u001b[1;31mModuleNotFoundError\u001b[0m                       Traceback (most recent call last)",
      "\u001b[1;32m<ipython-input-1-b952a2f304e7>\u001b[0m in \u001b[0;36m<module>\u001b[1;34m\u001b[0m\n\u001b[0;32m      1\u001b[0m \u001b[1;32mimport\u001b[0m \u001b[0mpandas\u001b[0m \u001b[1;32mas\u001b[0m \u001b[0mpd\u001b[0m\u001b[1;33m,\u001b[0m \u001b[0mnumpy\u001b[0m \u001b[1;32mas\u001b[0m \u001b[0mnp\u001b[0m\u001b[1;33m,\u001b[0m \u001b[0mre\u001b[0m\u001b[1;33m,\u001b[0m \u001b[0mjson\u001b[0m\u001b[1;33m,\u001b[0m \u001b[0mos\u001b[0m\u001b[1;33m,\u001b[0m \u001b[0mrequests\u001b[0m\u001b[1;33m\u001b[0m\u001b[1;33m\u001b[0m\u001b[0m\n\u001b[1;32m----> 2\u001b[1;33m \u001b[1;32mfrom\u001b[0m \u001b[0mscrapy\u001b[0m\u001b[1;33m.\u001b[0m\u001b[0mhttp\u001b[0m \u001b[1;32mimport\u001b[0m \u001b[0mHtmlResponse\u001b[0m\u001b[1;33m\u001b[0m\u001b[1;33m\u001b[0m\u001b[0m\n\u001b[0m",
      "\u001b[1;31mModuleNotFoundError\u001b[0m: No module named 'scrapy'"
     ]
    }
   ],
   "source": [
    "import pandas as pd, numpy as np, re, json, os, requests\n",
    "from scrapy.http import HtmlResponse"
   ]
  },
  {
   "cell_type": "code",
   "execution_count": 2,
   "metadata": {},
   "outputs": [],
   "source": [
    "home_url=\"https://www.zomato.com/bangalore/south-bangalore-restaurants\"\n",
    "headers={\"User-Agent\":\n",
    "\"Mozilla/5.0 (X11; Linux x86_64) AppleWebKit/537.36 (KHTML, like Gecko) Chrome/70.0.3538.110 Safari/537.36\"}"
   ]
  },
  {
   "cell_type": "code",
   "execution_count": 36,
   "metadata": {},
   "outputs": [
    {
     "name": "stdout",
     "output_type": "stream",
     "text": [
      "<Response [200]>\n",
      "<Response [200]>\n",
      "<Response [200]>\n",
      "<Response [200]>\n",
      "<Response [200]>\n",
      "<Response [200]>\n"
     ]
    }
   ],
   "source": [
    "res_id_list=[]\n",
    "res_name_list=[]\n",
    "res_area_list=[]\n",
    "res_type_list=[]\n",
    "json_data=[]\n",
    "temp_response=requests.get(home_url, headers=headers)\n",
    "print(temp_response)\n",
    "temp_response=HtmlResponse(url=home_url, body=temp_response.text, encoding=\"utf-8\")\n",
    "for page_i in range(5):\n",
    "    temp_eles=temp_response.xpath('.//div[@data-res_id]')\n",
    "    for ele in temp_eles:\n",
    "        res_id_list.append(ele.xpath('.//@data-res_id').extract()[0])\n",
    "        res_name_list.append(ele.xpath('.//a[@data-result-type=\"ResCard_Name\"]/text()').extract()[0].strip())\n",
    "        res_area_list.append(ele.xpath('.//a[contains(@class, \"search_result_subzone\")]/b/text()').extract()[0])\n",
    "        res_type_list.append(\", \".join(ele.xpath('.//div[contains(@class, \"res-snippet-small-establishment\")]//a/text()').extract()))\n",
    "        temp_json={\"restaurant_id\":res_id_list[-1], \"name\":res_name_list[-1], \n",
    "                   \"area\":res_area_list[-1], \"restaurant_type\":res_type_list[-1]}\n",
    "        json_data.append(temp_json)\n",
    "    temp_url=home_url+\"?page=\"+str(page_i+2)\n",
    "    temp_response=requests.get(temp_url, headers=headers)\n",
    "    print(temp_response)\n",
    "    temp_response=HtmlResponse(url=temp_url, body=temp_response.text, encoding=\"utf-8\")"
   ]
  },
  {
   "cell_type": "code",
   "execution_count": 37,
   "metadata": {},
   "outputs": [
    {
     "name": "stdout",
     "output_type": "stream",
     "text": [
      "75\n",
      "75\n",
      "75\n",
      "75\n"
     ]
    }
   ],
   "source": [
    "print(len(res_id_list))\n",
    "print(len(res_name_list))\n",
    "print(len(res_area_list))\n",
    "print(len(res_type_list))"
   ]
  },
  {
   "cell_type": "code",
   "execution_count": 38,
   "metadata": {},
   "outputs": [
    {
     "name": "stdout",
     "output_type": "stream",
     "text": [
      "(75, 4)\n"
     ]
    }
   ],
   "source": [
    "data=pd.DataFrame({\"restaurant_id\":res_id_list, \"name\":res_name_list, \n",
    "                   \"area\":res_area_list, \"restaurant_type\":res_type_list})\n",
    "print(data.shape)"
   ]
  },
  {
   "cell_type": "code",
   "execution_count": 39,
   "metadata": {},
   "outputs": [],
   "source": [
    "data.to_csv(\"zomato_75res_data.csv\", index=False)"
   ]
  },
  {
   "cell_type": "code",
   "execution_count": 41,
   "metadata": {},
   "outputs": [],
   "source": [
    "json.dump(json_data, open('zomato_75res_data.json', 'w'))"
   ]
  },
  {
   "cell_type": "code",
   "execution_count": null,
   "metadata": {},
   "outputs": [],
   "source": []
  }
 ],
 "metadata": {
  "kernelspec": {
   "display_name": "Python 3",
   "language": "python",
   "name": "python3"
  },
  "language_info": {
   "codemirror_mode": {
    "name": "ipython",
    "version": 3
   },
   "file_extension": ".py",
   "mimetype": "text/x-python",
   "name": "python",
   "nbconvert_exporter": "python",
   "pygments_lexer": "ipython3",
   "version": "3.7.4"
  }
 },
 "nbformat": 4,
 "nbformat_minor": 2
}
